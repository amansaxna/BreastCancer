{
 "cells": [
  {
   "cell_type": "markdown",
   "id": "4151e61e",
   "metadata": {},
   "source": [
    "### Libraries"
   ]
  },
  {
   "cell_type": "code",
   "execution_count": 1,
   "id": "613de146",
   "metadata": {},
   "outputs": [],
   "source": [
    "#!pip install -U scikit-learn\n",
    "import pandas as pd\n",
    "from sklearn.preprocessing import MinMaxScaler\n",
    "from sklearn.model_selection import train_test_split\n",
    "from sklearn.svm import SVC\n",
    "from sklearn.tree import DecisionTreeClassifier\n",
    "from sklearn.naive_bayes import GaussianNB\n",
    "from sklearn.model_selection import GridSearchCV\n",
    "from sklearn.ensemble import RandomForestClassifier\n",
    "\n",
    "from sklearn.metrics import f1_score,confusion_matrix"
   ]
  },
  {
   "cell_type": "markdown",
   "id": "e25fd4aa",
   "metadata": {},
   "source": [
    "### Reading Dataset"
   ]
  },
  {
   "cell_type": "code",
   "execution_count": 2,
   "id": "5d3eba3f",
   "metadata": {},
   "outputs": [
    {
     "data": {
      "text/plain": [
       "(569, 32)"
      ]
     },
     "execution_count": 2,
     "metadata": {},
     "output_type": "execute_result"
    }
   ],
   "source": [
    "df = pd.read_csv(\"data/wisconsin.csv\", )\n",
    "df.shape"
   ]
  },
  {
   "cell_type": "code",
   "execution_count": 3,
   "id": "6b402435",
   "metadata": {},
   "outputs": [],
   "source": [
    "#df"
   ]
  },
  {
   "cell_type": "markdown",
   "id": "1a42d4a8",
   "metadata": {},
   "source": [
    "### Data Analysis"
   ]
  },
  {
   "cell_type": "code",
   "execution_count": 4,
   "id": "fc43fcd2",
   "metadata": {},
   "outputs": [],
   "source": [
    "#df.columns"
   ]
  },
  {
   "cell_type": "code",
   "execution_count": 5,
   "id": "337bc1a6",
   "metadata": {},
   "outputs": [],
   "source": [
    "#df.info()"
   ]
  },
  {
   "cell_type": "code",
   "execution_count": 6,
   "id": "38a5e646",
   "metadata": {},
   "outputs": [],
   "source": [
    "#df.describe()"
   ]
  },
  {
   "cell_type": "code",
   "execution_count": 7,
   "id": "28a9dc4b",
   "metadata": {},
   "outputs": [
    {
     "data": {
      "text/plain": [
       "0"
      ]
     },
     "execution_count": 7,
     "metadata": {},
     "output_type": "execute_result"
    }
   ],
   "source": [
    "df.isnull().sum().sum()"
   ]
  },
  {
   "cell_type": "code",
   "execution_count": 8,
   "id": "9a145223",
   "metadata": {},
   "outputs": [
    {
     "data": {
      "text/plain": [
       "B    357\n",
       "M    212\n",
       "Name: diagnosis, dtype: int64"
      ]
     },
     "execution_count": 8,
     "metadata": {},
     "output_type": "execute_result"
    }
   ],
   "source": [
    "df[\"diagnosis\"].value_counts()"
   ]
  },
  {
   "cell_type": "code",
   "execution_count": 9,
   "id": "e547ba25",
   "metadata": {},
   "outputs": [],
   "source": [
    "df = df.drop(columns=[\"id\"])"
   ]
  },
  {
   "cell_type": "markdown",
   "id": "1dc285a8",
   "metadata": {},
   "source": [
    "### Feature Engineering"
   ]
  },
  {
   "cell_type": "code",
   "execution_count": 10,
   "id": "e99f124b",
   "metadata": {},
   "outputs": [],
   "source": [
    "# to-do"
   ]
  },
  {
   "cell_type": "code",
   "execution_count": 11,
   "id": "099f75c5",
   "metadata": {},
   "outputs": [],
   "source": [
    "label = \"diagnosis\""
   ]
  },
  {
   "cell_type": "code",
   "execution_count": 12,
   "id": "c703b06f",
   "metadata": {},
   "outputs": [],
   "source": [
    "def min_max_scale(column):\n",
    "    if column.name == label:\n",
    "        return column\n",
    "    else:\n",
    "        old_values = column.values.reshape(-1, 1)\n",
    "        new_values = MinMaxScaler().fit_transform(old_values)\n",
    "        new_values = new_values.reshape(-1)\n",
    "        return new_values"
   ]
  },
  {
   "cell_type": "code",
   "execution_count": 13,
   "id": "a5a9d941",
   "metadata": {},
   "outputs": [
    {
     "data": {
      "text/plain": [
       "(569, 31)"
      ]
     },
     "execution_count": 13,
     "metadata": {},
     "output_type": "execute_result"
    }
   ],
   "source": [
    "df = df.apply(min_max_scale)\n",
    "\n",
    "df.shape"
   ]
  },
  {
   "cell_type": "code",
   "execution_count": 14,
   "id": "068b3057-5ae5-4461-9f97-1316bfa95f40",
   "metadata": {
    "tags": []
   },
   "outputs": [
    {
     "data": {
      "text/html": [
       "<div>\n",
       "<style scoped>\n",
       "    .dataframe tbody tr th:only-of-type {\n",
       "        vertical-align: middle;\n",
       "    }\n",
       "\n",
       "    .dataframe tbody tr th {\n",
       "        vertical-align: top;\n",
       "    }\n",
       "\n",
       "    .dataframe thead th {\n",
       "        text-align: right;\n",
       "    }\n",
       "</style>\n",
       "<table border=\"1\" class=\"dataframe\">\n",
       "  <thead>\n",
       "    <tr style=\"text-align: right;\">\n",
       "      <th></th>\n",
       "      <th>diagnosis</th>\n",
       "      <th>radius_mean</th>\n",
       "      <th>texture_mean</th>\n",
       "      <th>perimeter_mean</th>\n",
       "      <th>area_mean</th>\n",
       "      <th>smoothness_mean</th>\n",
       "      <th>compactness_mean</th>\n",
       "      <th>concavity_mean</th>\n",
       "      <th>concave points_mean</th>\n",
       "      <th>symmetry_mean</th>\n",
       "      <th>...</th>\n",
       "      <th>radius_worst</th>\n",
       "      <th>texture_worst</th>\n",
       "      <th>perimeter_worst</th>\n",
       "      <th>area_worst</th>\n",
       "      <th>smoothness_worst</th>\n",
       "      <th>compactness_worst</th>\n",
       "      <th>concavity_worst</th>\n",
       "      <th>concave points_worst</th>\n",
       "      <th>symmetry_worst</th>\n",
       "      <th>fractal_dimension_worst</th>\n",
       "    </tr>\n",
       "  </thead>\n",
       "  <tbody>\n",
       "    <tr>\n",
       "      <th>0</th>\n",
       "      <td>M</td>\n",
       "      <td>0.521037</td>\n",
       "      <td>0.022658</td>\n",
       "      <td>0.545989</td>\n",
       "      <td>0.363733</td>\n",
       "      <td>0.593753</td>\n",
       "      <td>0.792037</td>\n",
       "      <td>0.703140</td>\n",
       "      <td>0.731113</td>\n",
       "      <td>0.686364</td>\n",
       "      <td>...</td>\n",
       "      <td>0.620776</td>\n",
       "      <td>0.141525</td>\n",
       "      <td>0.668310</td>\n",
       "      <td>0.450698</td>\n",
       "      <td>0.601136</td>\n",
       "      <td>0.619292</td>\n",
       "      <td>0.568610</td>\n",
       "      <td>0.912027</td>\n",
       "      <td>0.598462</td>\n",
       "      <td>0.418864</td>\n",
       "    </tr>\n",
       "    <tr>\n",
       "      <th>1</th>\n",
       "      <td>M</td>\n",
       "      <td>0.643144</td>\n",
       "      <td>0.272574</td>\n",
       "      <td>0.615783</td>\n",
       "      <td>0.501591</td>\n",
       "      <td>0.289880</td>\n",
       "      <td>0.181768</td>\n",
       "      <td>0.203608</td>\n",
       "      <td>0.348757</td>\n",
       "      <td>0.379798</td>\n",
       "      <td>...</td>\n",
       "      <td>0.606901</td>\n",
       "      <td>0.303571</td>\n",
       "      <td>0.539818</td>\n",
       "      <td>0.435214</td>\n",
       "      <td>0.347553</td>\n",
       "      <td>0.154563</td>\n",
       "      <td>0.192971</td>\n",
       "      <td>0.639175</td>\n",
       "      <td>0.233590</td>\n",
       "      <td>0.222878</td>\n",
       "    </tr>\n",
       "    <tr>\n",
       "      <th>2</th>\n",
       "      <td>M</td>\n",
       "      <td>0.601496</td>\n",
       "      <td>0.390260</td>\n",
       "      <td>0.595743</td>\n",
       "      <td>0.449417</td>\n",
       "      <td>0.514309</td>\n",
       "      <td>0.431017</td>\n",
       "      <td>0.462512</td>\n",
       "      <td>0.635686</td>\n",
       "      <td>0.509596</td>\n",
       "      <td>...</td>\n",
       "      <td>0.556386</td>\n",
       "      <td>0.360075</td>\n",
       "      <td>0.508442</td>\n",
       "      <td>0.374508</td>\n",
       "      <td>0.483590</td>\n",
       "      <td>0.385375</td>\n",
       "      <td>0.359744</td>\n",
       "      <td>0.835052</td>\n",
       "      <td>0.403706</td>\n",
       "      <td>0.213433</td>\n",
       "    </tr>\n",
       "    <tr>\n",
       "      <th>3</th>\n",
       "      <td>M</td>\n",
       "      <td>0.210090</td>\n",
       "      <td>0.360839</td>\n",
       "      <td>0.233501</td>\n",
       "      <td>0.102906</td>\n",
       "      <td>0.811321</td>\n",
       "      <td>0.811361</td>\n",
       "      <td>0.565604</td>\n",
       "      <td>0.522863</td>\n",
       "      <td>0.776263</td>\n",
       "      <td>...</td>\n",
       "      <td>0.248310</td>\n",
       "      <td>0.385928</td>\n",
       "      <td>0.241347</td>\n",
       "      <td>0.094008</td>\n",
       "      <td>0.915472</td>\n",
       "      <td>0.814012</td>\n",
       "      <td>0.548642</td>\n",
       "      <td>0.884880</td>\n",
       "      <td>1.000000</td>\n",
       "      <td>0.773711</td>\n",
       "    </tr>\n",
       "    <tr>\n",
       "      <th>4</th>\n",
       "      <td>M</td>\n",
       "      <td>0.629893</td>\n",
       "      <td>0.156578</td>\n",
       "      <td>0.630986</td>\n",
       "      <td>0.489290</td>\n",
       "      <td>0.430351</td>\n",
       "      <td>0.347893</td>\n",
       "      <td>0.463918</td>\n",
       "      <td>0.518390</td>\n",
       "      <td>0.378283</td>\n",
       "      <td>...</td>\n",
       "      <td>0.519744</td>\n",
       "      <td>0.123934</td>\n",
       "      <td>0.506948</td>\n",
       "      <td>0.341575</td>\n",
       "      <td>0.437364</td>\n",
       "      <td>0.172415</td>\n",
       "      <td>0.319489</td>\n",
       "      <td>0.558419</td>\n",
       "      <td>0.157500</td>\n",
       "      <td>0.142595</td>\n",
       "    </tr>\n",
       "    <tr>\n",
       "      <th>...</th>\n",
       "      <td>...</td>\n",
       "      <td>...</td>\n",
       "      <td>...</td>\n",
       "      <td>...</td>\n",
       "      <td>...</td>\n",
       "      <td>...</td>\n",
       "      <td>...</td>\n",
       "      <td>...</td>\n",
       "      <td>...</td>\n",
       "      <td>...</td>\n",
       "      <td>...</td>\n",
       "      <td>...</td>\n",
       "      <td>...</td>\n",
       "      <td>...</td>\n",
       "      <td>...</td>\n",
       "      <td>...</td>\n",
       "      <td>...</td>\n",
       "      <td>...</td>\n",
       "      <td>...</td>\n",
       "      <td>...</td>\n",
       "      <td>...</td>\n",
       "    </tr>\n",
       "    <tr>\n",
       "      <th>564</th>\n",
       "      <td>M</td>\n",
       "      <td>0.690000</td>\n",
       "      <td>0.428813</td>\n",
       "      <td>0.678668</td>\n",
       "      <td>0.566490</td>\n",
       "      <td>0.526948</td>\n",
       "      <td>0.296055</td>\n",
       "      <td>0.571462</td>\n",
       "      <td>0.690358</td>\n",
       "      <td>0.336364</td>\n",
       "      <td>...</td>\n",
       "      <td>0.623266</td>\n",
       "      <td>0.383262</td>\n",
       "      <td>0.576174</td>\n",
       "      <td>0.452664</td>\n",
       "      <td>0.461137</td>\n",
       "      <td>0.178527</td>\n",
       "      <td>0.328035</td>\n",
       "      <td>0.761512</td>\n",
       "      <td>0.097575</td>\n",
       "      <td>0.105667</td>\n",
       "    </tr>\n",
       "    <tr>\n",
       "      <th>565</th>\n",
       "      <td>M</td>\n",
       "      <td>0.622320</td>\n",
       "      <td>0.626987</td>\n",
       "      <td>0.604036</td>\n",
       "      <td>0.474019</td>\n",
       "      <td>0.407782</td>\n",
       "      <td>0.257714</td>\n",
       "      <td>0.337395</td>\n",
       "      <td>0.486630</td>\n",
       "      <td>0.349495</td>\n",
       "      <td>...</td>\n",
       "      <td>0.560655</td>\n",
       "      <td>0.699094</td>\n",
       "      <td>0.520892</td>\n",
       "      <td>0.379915</td>\n",
       "      <td>0.300007</td>\n",
       "      <td>0.159997</td>\n",
       "      <td>0.256789</td>\n",
       "      <td>0.559450</td>\n",
       "      <td>0.198502</td>\n",
       "      <td>0.074315</td>\n",
       "    </tr>\n",
       "    <tr>\n",
       "      <th>566</th>\n",
       "      <td>M</td>\n",
       "      <td>0.455251</td>\n",
       "      <td>0.621238</td>\n",
       "      <td>0.445788</td>\n",
       "      <td>0.303118</td>\n",
       "      <td>0.288165</td>\n",
       "      <td>0.254340</td>\n",
       "      <td>0.216753</td>\n",
       "      <td>0.263519</td>\n",
       "      <td>0.267677</td>\n",
       "      <td>...</td>\n",
       "      <td>0.393099</td>\n",
       "      <td>0.589019</td>\n",
       "      <td>0.379949</td>\n",
       "      <td>0.230731</td>\n",
       "      <td>0.282177</td>\n",
       "      <td>0.273705</td>\n",
       "      <td>0.271805</td>\n",
       "      <td>0.487285</td>\n",
       "      <td>0.128721</td>\n",
       "      <td>0.151909</td>\n",
       "    </tr>\n",
       "    <tr>\n",
       "      <th>567</th>\n",
       "      <td>M</td>\n",
       "      <td>0.644564</td>\n",
       "      <td>0.663510</td>\n",
       "      <td>0.665538</td>\n",
       "      <td>0.475716</td>\n",
       "      <td>0.588336</td>\n",
       "      <td>0.790197</td>\n",
       "      <td>0.823336</td>\n",
       "      <td>0.755467</td>\n",
       "      <td>0.675253</td>\n",
       "      <td>...</td>\n",
       "      <td>0.633582</td>\n",
       "      <td>0.730277</td>\n",
       "      <td>0.668310</td>\n",
       "      <td>0.402035</td>\n",
       "      <td>0.619626</td>\n",
       "      <td>0.815758</td>\n",
       "      <td>0.749760</td>\n",
       "      <td>0.910653</td>\n",
       "      <td>0.497142</td>\n",
       "      <td>0.452315</td>\n",
       "    </tr>\n",
       "    <tr>\n",
       "      <th>568</th>\n",
       "      <td>B</td>\n",
       "      <td>0.036869</td>\n",
       "      <td>0.501522</td>\n",
       "      <td>0.028540</td>\n",
       "      <td>0.015907</td>\n",
       "      <td>0.000000</td>\n",
       "      <td>0.074351</td>\n",
       "      <td>0.000000</td>\n",
       "      <td>0.000000</td>\n",
       "      <td>0.266162</td>\n",
       "      <td>...</td>\n",
       "      <td>0.054287</td>\n",
       "      <td>0.489072</td>\n",
       "      <td>0.043578</td>\n",
       "      <td>0.020497</td>\n",
       "      <td>0.124084</td>\n",
       "      <td>0.036043</td>\n",
       "      <td>0.000000</td>\n",
       "      <td>0.000000</td>\n",
       "      <td>0.257441</td>\n",
       "      <td>0.100682</td>\n",
       "    </tr>\n",
       "  </tbody>\n",
       "</table>\n",
       "<p>569 rows × 31 columns</p>\n",
       "</div>"
      ],
      "text/plain": [
       "    diagnosis  radius_mean  texture_mean  perimeter_mean  area_mean  \\\n",
       "0           M     0.521037      0.022658        0.545989   0.363733   \n",
       "1           M     0.643144      0.272574        0.615783   0.501591   \n",
       "2           M     0.601496      0.390260        0.595743   0.449417   \n",
       "3           M     0.210090      0.360839        0.233501   0.102906   \n",
       "4           M     0.629893      0.156578        0.630986   0.489290   \n",
       "..        ...          ...           ...             ...        ...   \n",
       "564         M     0.690000      0.428813        0.678668   0.566490   \n",
       "565         M     0.622320      0.626987        0.604036   0.474019   \n",
       "566         M     0.455251      0.621238        0.445788   0.303118   \n",
       "567         M     0.644564      0.663510        0.665538   0.475716   \n",
       "568         B     0.036869      0.501522        0.028540   0.015907   \n",
       "\n",
       "     smoothness_mean  compactness_mean  concavity_mean  concave points_mean  \\\n",
       "0           0.593753          0.792037        0.703140             0.731113   \n",
       "1           0.289880          0.181768        0.203608             0.348757   \n",
       "2           0.514309          0.431017        0.462512             0.635686   \n",
       "3           0.811321          0.811361        0.565604             0.522863   \n",
       "4           0.430351          0.347893        0.463918             0.518390   \n",
       "..               ...               ...             ...                  ...   \n",
       "564         0.526948          0.296055        0.571462             0.690358   \n",
       "565         0.407782          0.257714        0.337395             0.486630   \n",
       "566         0.288165          0.254340        0.216753             0.263519   \n",
       "567         0.588336          0.790197        0.823336             0.755467   \n",
       "568         0.000000          0.074351        0.000000             0.000000   \n",
       "\n",
       "     symmetry_mean  ...  radius_worst  texture_worst  perimeter_worst  \\\n",
       "0         0.686364  ...      0.620776       0.141525         0.668310   \n",
       "1         0.379798  ...      0.606901       0.303571         0.539818   \n",
       "2         0.509596  ...      0.556386       0.360075         0.508442   \n",
       "3         0.776263  ...      0.248310       0.385928         0.241347   \n",
       "4         0.378283  ...      0.519744       0.123934         0.506948   \n",
       "..             ...  ...           ...            ...              ...   \n",
       "564       0.336364  ...      0.623266       0.383262         0.576174   \n",
       "565       0.349495  ...      0.560655       0.699094         0.520892   \n",
       "566       0.267677  ...      0.393099       0.589019         0.379949   \n",
       "567       0.675253  ...      0.633582       0.730277         0.668310   \n",
       "568       0.266162  ...      0.054287       0.489072         0.043578   \n",
       "\n",
       "     area_worst  smoothness_worst  compactness_worst  concavity_worst  \\\n",
       "0      0.450698          0.601136           0.619292         0.568610   \n",
       "1      0.435214          0.347553           0.154563         0.192971   \n",
       "2      0.374508          0.483590           0.385375         0.359744   \n",
       "3      0.094008          0.915472           0.814012         0.548642   \n",
       "4      0.341575          0.437364           0.172415         0.319489   \n",
       "..          ...               ...                ...              ...   \n",
       "564    0.452664          0.461137           0.178527         0.328035   \n",
       "565    0.379915          0.300007           0.159997         0.256789   \n",
       "566    0.230731          0.282177           0.273705         0.271805   \n",
       "567    0.402035          0.619626           0.815758         0.749760   \n",
       "568    0.020497          0.124084           0.036043         0.000000   \n",
       "\n",
       "     concave points_worst  symmetry_worst  fractal_dimension_worst  \n",
       "0                0.912027        0.598462                 0.418864  \n",
       "1                0.639175        0.233590                 0.222878  \n",
       "2                0.835052        0.403706                 0.213433  \n",
       "3                0.884880        1.000000                 0.773711  \n",
       "4                0.558419        0.157500                 0.142595  \n",
       "..                    ...             ...                      ...  \n",
       "564              0.761512        0.097575                 0.105667  \n",
       "565              0.559450        0.198502                 0.074315  \n",
       "566              0.487285        0.128721                 0.151909  \n",
       "567              0.910653        0.497142                 0.452315  \n",
       "568              0.000000        0.257441                 0.100682  \n",
       "\n",
       "[569 rows x 31 columns]"
      ]
     },
     "execution_count": 14,
     "metadata": {},
     "output_type": "execute_result"
    }
   ],
   "source": [
    "df"
   ]
  },
  {
   "cell_type": "markdown",
   "id": "3296de36-0170-4509-8287-59e2f492c90a",
   "metadata": {},
   "source": [
    "### 1) Feature selection with correlation"
   ]
  },
  {
   "cell_type": "code",
   "execution_count": 15,
   "id": "5c60cbbb-ac60-497f-b471-128576f4efd4",
   "metadata": {},
   "outputs": [
    {
     "data": {
      "text/html": [
       "<div>\n",
       "<style scoped>\n",
       "    .dataframe tbody tr th:only-of-type {\n",
       "        vertical-align: middle;\n",
       "    }\n",
       "\n",
       "    .dataframe tbody tr th {\n",
       "        vertical-align: top;\n",
       "    }\n",
       "\n",
       "    .dataframe thead th {\n",
       "        text-align: right;\n",
       "    }\n",
       "</style>\n",
       "<table border=\"1\" class=\"dataframe\">\n",
       "  <thead>\n",
       "    <tr style=\"text-align: right;\">\n",
       "      <th></th>\n",
       "      <th>diagnosis</th>\n",
       "      <th>texture_mean</th>\n",
       "      <th>area_mean</th>\n",
       "      <th>smoothness_mean</th>\n",
       "      <th>concavity_mean</th>\n",
       "      <th>symmetry_mean</th>\n",
       "      <th>fractal_dimension_mean</th>\n",
       "      <th>texture_se</th>\n",
       "      <th>area_se</th>\n",
       "      <th>smoothness_se</th>\n",
       "      <th>concavity_se</th>\n",
       "      <th>symmetry_se</th>\n",
       "      <th>fractal_dimension_se</th>\n",
       "      <th>smoothness_worst</th>\n",
       "      <th>concavity_worst</th>\n",
       "      <th>symmetry_worst</th>\n",
       "      <th>fractal_dimension_worst</th>\n",
       "    </tr>\n",
       "  </thead>\n",
       "  <tbody>\n",
       "    <tr>\n",
       "      <th>0</th>\n",
       "      <td>M</td>\n",
       "      <td>0.022658</td>\n",
       "      <td>0.363733</td>\n",
       "      <td>0.593753</td>\n",
       "      <td>0.703140</td>\n",
       "      <td>0.686364</td>\n",
       "      <td>0.605518</td>\n",
       "      <td>0.120469</td>\n",
       "      <td>0.273811</td>\n",
       "      <td>0.159296</td>\n",
       "      <td>0.135682</td>\n",
       "      <td>0.311645</td>\n",
       "      <td>0.183042</td>\n",
       "      <td>0.601136</td>\n",
       "      <td>0.568610</td>\n",
       "      <td>0.598462</td>\n",
       "      <td>0.418864</td>\n",
       "    </tr>\n",
       "    <tr>\n",
       "      <th>1</th>\n",
       "      <td>M</td>\n",
       "      <td>0.272574</td>\n",
       "      <td>0.501591</td>\n",
       "      <td>0.289880</td>\n",
       "      <td>0.203608</td>\n",
       "      <td>0.379798</td>\n",
       "      <td>0.141323</td>\n",
       "      <td>0.082589</td>\n",
       "      <td>0.125660</td>\n",
       "      <td>0.119387</td>\n",
       "      <td>0.046970</td>\n",
       "      <td>0.084539</td>\n",
       "      <td>0.091110</td>\n",
       "      <td>0.347553</td>\n",
       "      <td>0.192971</td>\n",
       "      <td>0.233590</td>\n",
       "      <td>0.222878</td>\n",
       "    </tr>\n",
       "    <tr>\n",
       "      <th>2</th>\n",
       "      <td>M</td>\n",
       "      <td>0.390260</td>\n",
       "      <td>0.449417</td>\n",
       "      <td>0.514309</td>\n",
       "      <td>0.462512</td>\n",
       "      <td>0.509596</td>\n",
       "      <td>0.211247</td>\n",
       "      <td>0.094303</td>\n",
       "      <td>0.162922</td>\n",
       "      <td>0.150831</td>\n",
       "      <td>0.096768</td>\n",
       "      <td>0.205690</td>\n",
       "      <td>0.127006</td>\n",
       "      <td>0.483590</td>\n",
       "      <td>0.359744</td>\n",
       "      <td>0.403706</td>\n",
       "      <td>0.213433</td>\n",
       "    </tr>\n",
       "    <tr>\n",
       "      <th>3</th>\n",
       "      <td>M</td>\n",
       "      <td>0.360839</td>\n",
       "      <td>0.102906</td>\n",
       "      <td>0.811321</td>\n",
       "      <td>0.565604</td>\n",
       "      <td>0.776263</td>\n",
       "      <td>1.000000</td>\n",
       "      <td>0.175875</td>\n",
       "      <td>0.038155</td>\n",
       "      <td>0.251453</td>\n",
       "      <td>0.142955</td>\n",
       "      <td>0.728148</td>\n",
       "      <td>0.287205</td>\n",
       "      <td>0.915472</td>\n",
       "      <td>0.548642</td>\n",
       "      <td>1.000000</td>\n",
       "      <td>0.773711</td>\n",
       "    </tr>\n",
       "    <tr>\n",
       "      <th>4</th>\n",
       "      <td>M</td>\n",
       "      <td>0.156578</td>\n",
       "      <td>0.489290</td>\n",
       "      <td>0.430351</td>\n",
       "      <td>0.463918</td>\n",
       "      <td>0.378283</td>\n",
       "      <td>0.186816</td>\n",
       "      <td>0.093065</td>\n",
       "      <td>0.163688</td>\n",
       "      <td>0.332359</td>\n",
       "      <td>0.143636</td>\n",
       "      <td>0.136179</td>\n",
       "      <td>0.145800</td>\n",
       "      <td>0.437364</td>\n",
       "      <td>0.319489</td>\n",
       "      <td>0.157500</td>\n",
       "      <td>0.142595</td>\n",
       "    </tr>\n",
       "  </tbody>\n",
       "</table>\n",
       "</div>"
      ],
      "text/plain": [
       "  diagnosis  texture_mean  area_mean  smoothness_mean  concavity_mean  \\\n",
       "0         M      0.022658   0.363733         0.593753        0.703140   \n",
       "1         M      0.272574   0.501591         0.289880        0.203608   \n",
       "2         M      0.390260   0.449417         0.514309        0.462512   \n",
       "3         M      0.360839   0.102906         0.811321        0.565604   \n",
       "4         M      0.156578   0.489290         0.430351        0.463918   \n",
       "\n",
       "   symmetry_mean  fractal_dimension_mean  texture_se   area_se  smoothness_se  \\\n",
       "0       0.686364                0.605518    0.120469  0.273811       0.159296   \n",
       "1       0.379798                0.141323    0.082589  0.125660       0.119387   \n",
       "2       0.509596                0.211247    0.094303  0.162922       0.150831   \n",
       "3       0.776263                1.000000    0.175875  0.038155       0.251453   \n",
       "4       0.378283                0.186816    0.093065  0.163688       0.332359   \n",
       "\n",
       "   concavity_se  symmetry_se  fractal_dimension_se  smoothness_worst  \\\n",
       "0      0.135682     0.311645              0.183042          0.601136   \n",
       "1      0.046970     0.084539              0.091110          0.347553   \n",
       "2      0.096768     0.205690              0.127006          0.483590   \n",
       "3      0.142955     0.728148              0.287205          0.915472   \n",
       "4      0.143636     0.136179              0.145800          0.437364   \n",
       "\n",
       "   concavity_worst  symmetry_worst  fractal_dimension_worst  \n",
       "0         0.568610        0.598462                 0.418864  \n",
       "1         0.192971        0.233590                 0.222878  \n",
       "2         0.359744        0.403706                 0.213433  \n",
       "3         0.548642        1.000000                 0.773711  \n",
       "4         0.319489        0.157500                 0.142595  "
      ]
     },
     "execution_count": 15,
     "metadata": {},
     "output_type": "execute_result"
    }
   ],
   "source": [
    "drop_list1 = ['perimeter_mean','radius_mean','compactness_mean','concave points_mean','radius_se','perimeter_se','radius_worst','perimeter_worst','compactness_worst','concave points_worst','compactness_se','concave points_se','texture_worst','area_worst']\n",
    "df = df.drop(drop_list1,axis = 1 )        # do not modify x, we will use it later \n",
    "df.head()"
   ]
  },
  {
   "cell_type": "markdown",
   "id": "9c4fcdb0",
   "metadata": {
    "tags": []
   },
   "source": [
    "#### Dataset split"
   ]
  },
  {
   "cell_type": "code",
   "execution_count": 16,
   "id": "580baae3",
   "metadata": {
    "tags": []
   },
   "outputs": [],
   "source": [
    "df_train, df_test = train_test_split(df, test_size=0.3, stratify=df[label], random_state=42)"
   ]
  },
  {
   "cell_type": "code",
   "execution_count": 17,
   "id": "b255aef1",
   "metadata": {
    "tags": []
   },
   "outputs": [
    {
     "data": {
      "text/plain": [
       "(398, 17)"
      ]
     },
     "execution_count": 17,
     "metadata": {},
     "output_type": "execute_result"
    }
   ],
   "source": [
    "df_train.shape"
   ]
  },
  {
   "cell_type": "code",
   "execution_count": 18,
   "id": "99365834",
   "metadata": {
    "tags": []
   },
   "outputs": [
    {
     "data": {
      "text/plain": [
       "(171, 17)"
      ]
     },
     "execution_count": 18,
     "metadata": {},
     "output_type": "execute_result"
    }
   ],
   "source": [
    "df_test.shape"
   ]
  },
  {
   "cell_type": "markdown",
   "id": "95f4d648",
   "metadata": {
    "tags": []
   },
   "source": [
    "#### Features-Label split"
   ]
  },
  {
   "cell_type": "code",
   "execution_count": 46,
   "id": "736e6b41",
   "metadata": {
    "tags": []
   },
   "outputs": [
    {
     "data": {
      "text/plain": [
       "(398, 16)"
      ]
     },
     "execution_count": 46,
     "metadata": {},
     "output_type": "execute_result"
    }
   ],
   "source": [
    "X_train = df_train.loc[:, df_train.columns != label]\n",
    "y_train = df_train.loc[:, df_train.columns == label]\n",
    "\n",
    "X_test = df_test.loc[:, df_test.columns != label]\n",
    "y_test = df_test.loc[:, df_test.columns == label]\n",
    "\n",
    "X_train.shape"
   ]
  },
  {
   "cell_type": "code",
   "execution_count": 47,
   "id": "4d5c32c2-24d1-447f-8b30-d27f07ebbd97",
   "metadata": {},
   "outputs": [
    {
     "data": {
      "text/html": [
       "<div>\n",
       "<style scoped>\n",
       "    .dataframe tbody tr th:only-of-type {\n",
       "        vertical-align: middle;\n",
       "    }\n",
       "\n",
       "    .dataframe tbody tr th {\n",
       "        vertical-align: top;\n",
       "    }\n",
       "\n",
       "    .dataframe thead th {\n",
       "        text-align: right;\n",
       "    }\n",
       "</style>\n",
       "<table border=\"1\" class=\"dataframe\">\n",
       "  <thead>\n",
       "    <tr style=\"text-align: right;\">\n",
       "      <th></th>\n",
       "      <th>texture_mean</th>\n",
       "      <th>area_mean</th>\n",
       "      <th>smoothness_mean</th>\n",
       "      <th>concavity_mean</th>\n",
       "      <th>symmetry_mean</th>\n",
       "      <th>fractal_dimension_mean</th>\n",
       "      <th>texture_se</th>\n",
       "      <th>area_se</th>\n",
       "      <th>smoothness_se</th>\n",
       "      <th>concavity_se</th>\n",
       "      <th>symmetry_se</th>\n",
       "      <th>fractal_dimension_se</th>\n",
       "      <th>smoothness_worst</th>\n",
       "      <th>concavity_worst</th>\n",
       "      <th>symmetry_worst</th>\n",
       "      <th>fractal_dimension_worst</th>\n",
       "    </tr>\n",
       "  </thead>\n",
       "  <tbody>\n",
       "    <tr>\n",
       "      <th>78</th>\n",
       "      <td>0.482246</td>\n",
       "      <td>0.467232</td>\n",
       "      <td>0.685836</td>\n",
       "      <td>0.879569</td>\n",
       "      <td>0.932323</td>\n",
       "      <td>0.662595</td>\n",
       "      <td>0.336987</td>\n",
       "      <td>0.204704</td>\n",
       "      <td>0.294626</td>\n",
       "      <td>0.275505</td>\n",
       "      <td>1.000000</td>\n",
       "      <td>0.175926</td>\n",
       "      <td>0.612362</td>\n",
       "      <td>0.613498</td>\n",
       "      <td>0.763848</td>\n",
       "      <td>0.292536</td>\n",
       "    </tr>\n",
       "    <tr>\n",
       "      <th>330</th>\n",
       "      <td>0.196145</td>\n",
       "      <td>0.275589</td>\n",
       "      <td>0.381692</td>\n",
       "      <td>0.282099</td>\n",
       "      <td>0.364646</td>\n",
       "      <td>0.206403</td>\n",
       "      <td>0.085617</td>\n",
       "      <td>0.049436</td>\n",
       "      <td>0.140259</td>\n",
       "      <td>0.093813</td>\n",
       "      <td>0.095514</td>\n",
       "      <td>0.076911</td>\n",
       "      <td>0.477646</td>\n",
       "      <td>0.395847</td>\n",
       "      <td>0.286615</td>\n",
       "      <td>0.237439</td>\n",
       "    </tr>\n",
       "    <tr>\n",
       "      <th>378</th>\n",
       "      <td>0.183970</td>\n",
       "      <td>0.185408</td>\n",
       "      <td>0.271283</td>\n",
       "      <td>0.099555</td>\n",
       "      <td>0.369697</td>\n",
       "      <td>0.189764</td>\n",
       "      <td>0.040112</td>\n",
       "      <td>0.008495</td>\n",
       "      <td>0.118945</td>\n",
       "      <td>0.061692</td>\n",
       "      <td>0.144903</td>\n",
       "      <td>0.137266</td>\n",
       "      <td>0.371987</td>\n",
       "      <td>0.205192</td>\n",
       "      <td>0.359156</td>\n",
       "      <td>0.271153</td>\n",
       "    </tr>\n",
       "    <tr>\n",
       "      <th>213</th>\n",
       "      <td>0.536016</td>\n",
       "      <td>0.341251</td>\n",
       "      <td>0.433059</td>\n",
       "      <td>0.394096</td>\n",
       "      <td>0.125253</td>\n",
       "      <td>0.183235</td>\n",
       "      <td>0.288808</td>\n",
       "      <td>0.096616</td>\n",
       "      <td>1.000000</td>\n",
       "      <td>0.363131</td>\n",
       "      <td>0.195137</td>\n",
       "      <td>0.403010</td>\n",
       "      <td>0.350855</td>\n",
       "      <td>0.223882</td>\n",
       "      <td>0.007491</td>\n",
       "      <td>0.086187</td>\n",
       "    </tr>\n",
       "    <tr>\n",
       "      <th>89</th>\n",
       "      <td>0.187014</td>\n",
       "      <td>0.215652</td>\n",
       "      <td>0.546809</td>\n",
       "      <td>0.233505</td>\n",
       "      <td>0.533333</td>\n",
       "      <td>0.284330</td>\n",
       "      <td>0.083319</td>\n",
       "      <td>0.067161</td>\n",
       "      <td>0.129007</td>\n",
       "      <td>0.112020</td>\n",
       "      <td>0.230596</td>\n",
       "      <td>0.136333</td>\n",
       "      <td>0.373308</td>\n",
       "      <td>0.207987</td>\n",
       "      <td>0.312636</td>\n",
       "      <td>0.194740</td>\n",
       "    </tr>\n",
       "  </tbody>\n",
       "</table>\n",
       "</div>"
      ],
      "text/plain": [
       "     texture_mean  area_mean  smoothness_mean  concavity_mean  symmetry_mean  \\\n",
       "78       0.482246   0.467232         0.685836        0.879569       0.932323   \n",
       "330      0.196145   0.275589         0.381692        0.282099       0.364646   \n",
       "378      0.183970   0.185408         0.271283        0.099555       0.369697   \n",
       "213      0.536016   0.341251         0.433059        0.394096       0.125253   \n",
       "89       0.187014   0.215652         0.546809        0.233505       0.533333   \n",
       "\n",
       "     fractal_dimension_mean  texture_se   area_se  smoothness_se  \\\n",
       "78                 0.662595    0.336987  0.204704       0.294626   \n",
       "330                0.206403    0.085617  0.049436       0.140259   \n",
       "378                0.189764    0.040112  0.008495       0.118945   \n",
       "213                0.183235    0.288808  0.096616       1.000000   \n",
       "89                 0.284330    0.083319  0.067161       0.129007   \n",
       "\n",
       "     concavity_se  symmetry_se  fractal_dimension_se  smoothness_worst  \\\n",
       "78       0.275505     1.000000              0.175926          0.612362   \n",
       "330      0.093813     0.095514              0.076911          0.477646   \n",
       "378      0.061692     0.144903              0.137266          0.371987   \n",
       "213      0.363131     0.195137              0.403010          0.350855   \n",
       "89       0.112020     0.230596              0.136333          0.373308   \n",
       "\n",
       "     concavity_worst  symmetry_worst  fractal_dimension_worst  \n",
       "78          0.613498        0.763848                 0.292536  \n",
       "330         0.395847        0.286615                 0.237439  \n",
       "378         0.205192        0.359156                 0.271153  \n",
       "213         0.223882        0.007491                 0.086187  \n",
       "89          0.207987        0.312636                 0.194740  "
      ]
     },
     "execution_count": 47,
     "metadata": {},
     "output_type": "execute_result"
    }
   ],
   "source": [
    "X_train.head()"
   ]
  },
  {
   "cell_type": "markdown",
   "id": "77b010b4-b98b-458e-8e1e-4f8e579e7e74",
   "metadata": {
    "tags": []
   },
   "source": [
    "### 2) Univariate feature selection"
   ]
  },
  {
   "cell_type": "code",
   "execution_count": 48,
   "id": "08ae5b8d-daec-4ea2-8406-e7b1042444ab",
   "metadata": {
    "tags": []
   },
   "outputs": [
    {
     "name": "stdout",
     "output_type": "stream",
     "text": [
      "Score list: [3.84538882e+00 2.03657696e+01 2.53775484e+00 3.06196825e+01\n",
      " 1.97970437e+00 3.66545637e-03 1.73972635e-02 1.35240345e+01\n",
      " 5.85621267e-02 1.31403514e+00 7.91760460e-05 4.95843510e-02\n",
      " 4.63671197e+00 2.01574199e+01 4.17854903e+00 2.62786200e+00]\n",
      "Feature list: Index(['texture_mean', 'area_mean', 'smoothness_mean', 'concavity_mean',\n",
      "       'symmetry_mean', 'fractal_dimension_mean', 'texture_se', 'area_se',\n",
      "       'smoothness_se', 'concavity_se', 'symmetry_se', 'fractal_dimension_se',\n",
      "       'smoothness_worst', 'concavity_worst', 'symmetry_worst',\n",
      "       'fractal_dimension_worst'],\n",
      "      dtype='object')\n"
     ]
    }
   ],
   "source": [
    "from sklearn.feature_selection import SelectKBest\n",
    "from sklearn.feature_selection import chi2\n",
    "# find best scored 5 features\n",
    "select_feature = SelectKBest(chi2, k=5).fit(X_train, y_train)\n",
    "print('Score list:', select_feature.scores_)\n",
    "print('Feature list:', X_train.columns)"
   ]
  },
  {
   "cell_type": "code",
   "execution_count": 49,
   "id": "4a99091f-e843-404d-a302-128fa47557d3",
   "metadata": {},
   "outputs": [
    {
     "ename": "AttributeError",
     "evalue": "'numpy.ndarray' object has no attribute 'columns'",
     "output_type": "error",
     "traceback": [
      "\u001b[1;31m---------------------------------------------------------------------------\u001b[0m",
      "\u001b[1;31mAttributeError\u001b[0m                            Traceback (most recent call last)",
      "Input \u001b[1;32mIn [49]\u001b[0m, in \u001b[0;36m<cell line: 3>\u001b[1;34m()\u001b[0m\n\u001b[0;32m      1\u001b[0m X_train \u001b[38;5;241m=\u001b[39m select_feature\u001b[38;5;241m.\u001b[39mtransform(X_train)\n\u001b[0;32m      2\u001b[0m X_test \u001b[38;5;241m=\u001b[39m select_feature\u001b[38;5;241m.\u001b[39mtransform(X_test)\n\u001b[1;32m----> 3\u001b[0m pd\u001b[38;5;241m.\u001b[39mDataFrame(\u001b[43mX_train\u001b[49m\u001b[38;5;241;43m.\u001b[39;49m\u001b[43mcolumns\u001b[49m)\n",
      "\u001b[1;31mAttributeError\u001b[0m: 'numpy.ndarray' object has no attribute 'columns'"
     ]
    }
   ],
   "source": [
    "X_train = select_feature.transform(X_train)\n",
    "X_test = select_feature.transform(X_test)\n",
    "pd.DataFrame(X_train.columns)\n",
    "#.cv_results_).sort_values(\"rank_test_score\")\n",
    "#print('Feature list:', X_train.columns)"
   ]
  },
  {
   "cell_type": "markdown",
   "id": "9463349a-71a2-4e32-a869-888e30211c24",
   "metadata": {},
   "source": [
    "### 3) Feature Extraction with PCA"
   ]
  },
  {
   "cell_type": "code",
   "execution_count": 23,
   "id": "5823bc61-1f48-4e62-aadb-4c5444c7c229",
   "metadata": {},
   "outputs": [
    {
     "data": {
      "text/plain": [
       "PCA()"
      ]
     },
     "execution_count": 23,
     "metadata": {},
     "output_type": "execute_result"
    }
   ],
   "source": [
    "#from sklearn.decomposition import PCA\n",
    "#pca = PCA()\n",
    "#pca.fit(X_train)"
   ]
  },
  {
   "cell_type": "markdown",
   "id": "5a6f27e7",
   "metadata": {},
   "source": [
    "### Modelling"
   ]
  },
  {
   "cell_type": "markdown",
   "id": "af883fd4",
   "metadata": {},
   "source": [
    "#### 1. SVC"
   ]
  },
  {
   "cell_type": "markdown",
   "id": "b28490ca",
   "metadata": {},
   "source": [
    "#### Object"
   ]
  },
  {
   "cell_type": "code",
   "execution_count": 24,
   "id": "57022697",
   "metadata": {},
   "outputs": [],
   "source": [
    "svc_obj = SVC()"
   ]
  },
  {
   "cell_type": "markdown",
   "id": "1c1c3471",
   "metadata": {},
   "source": [
    "#### Params"
   ]
  },
  {
   "cell_type": "code",
   "execution_count": 25,
   "id": "d5cfa0e6",
   "metadata": {},
   "outputs": [],
   "source": [
    "svc_params = {\n",
    "    'kernel':('linear', 'rbf', 'sigmoid'),\n",
    "    'C':[i for i in range(1, 11)]\n",
    "}"
   ]
  },
  {
   "cell_type": "markdown",
   "id": "67b2d406",
   "metadata": {},
   "source": [
    "#### Create a grid search object and train it on all combinations"
   ]
  },
  {
   "cell_type": "code",
   "execution_count": 26,
   "id": "5c956349",
   "metadata": {},
   "outputs": [
    {
     "data": {
      "text/plain": [
       "GridSearchCV(estimator=SVC(),\n",
       "             param_grid={'C': [1, 2, 3, 4, 5, 6, 7, 8, 9, 10],\n",
       "                         'kernel': ('linear', 'rbf', 'sigmoid')})"
      ]
     },
     "execution_count": 26,
     "metadata": {},
     "output_type": "execute_result"
    }
   ],
   "source": [
    "svc_gs_clf = GridSearchCV(svc_obj, svc_params)\n",
    "\n",
    "svc_gs_clf.fit(X_train, y_train.values.reshape(-1))"
   ]
  },
  {
   "cell_type": "markdown",
   "id": "42dd54a5",
   "metadata": {},
   "source": [
    "#### Get best parameters as per grid search"
   ]
  },
  {
   "cell_type": "code",
   "execution_count": 27,
   "id": "069e4e46",
   "metadata": {
    "scrolled": true
   },
   "outputs": [
    {
     "data": {
      "text/plain": [
       "SVC(C=8, kernel='linear')"
      ]
     },
     "execution_count": 27,
     "metadata": {},
     "output_type": "execute_result"
    }
   ],
   "source": [
    "svc_gs_clf.best_estimator_"
   ]
  },
  {
   "cell_type": "markdown",
   "id": "f9c1cb44",
   "metadata": {},
   "source": [
    "#### Get the CV score on best parameters"
   ]
  },
  {
   "cell_type": "code",
   "execution_count": 28,
   "id": "28be68fb",
   "metadata": {},
   "outputs": [
    {
     "data": {
      "text/plain": [
       "0.9446518987341772"
      ]
     },
     "execution_count": 28,
     "metadata": {},
     "output_type": "execute_result"
    }
   ],
   "source": [
    "svc_gs_clf.best_score_"
   ]
  },
  {
   "cell_type": "markdown",
   "id": "df8c7712",
   "metadata": {},
   "source": [
    "### Display all grid search results"
   ]
  },
  {
   "cell_type": "code",
   "execution_count": 29,
   "id": "7e53d8c4",
   "metadata": {},
   "outputs": [],
   "source": [
    "#pd.DataFrame(svc_gs_clf.cv_results_).sort_values(\"rank_test_score\")"
   ]
  },
  {
   "cell_type": "markdown",
   "id": "481def26",
   "metadata": {},
   "source": [
    "#### Calculate test scores on best parameters"
   ]
  },
  {
   "cell_type": "code",
   "execution_count": 30,
   "id": "72491954",
   "metadata": {},
   "outputs": [
    {
     "data": {
      "text/plain": [
       "0.9532163742690059"
      ]
     },
     "execution_count": 30,
     "metadata": {},
     "output_type": "execute_result"
    }
   ],
   "source": [
    "svc_gs_clf.score(X_test, y_test.values.reshape(-1))"
   ]
  },
  {
   "cell_type": "markdown",
   "id": "f0d122a6",
   "metadata": {
    "tags": []
   },
   "source": [
    "#### 2. Decision Tree"
   ]
  },
  {
   "cell_type": "code",
   "execution_count": 31,
   "id": "ede76838",
   "metadata": {},
   "outputs": [],
   "source": [
    "dt_obj = DecisionTreeClassifier()"
   ]
  },
  {
   "cell_type": "code",
   "execution_count": 32,
   "id": "3a3e443c",
   "metadata": {},
   "outputs": [],
   "source": [
    "dt_params = {\n",
    "    \"max_depth\": [i for i in range(3, 11)],\n",
    "    \"min_samples_split\": [i for i in range(2, 5)],\n",
    "    \"min_samples_leaf\": [i for i in range(1, 5)]\n",
    "}"
   ]
  },
  {
   "cell_type": "code",
   "execution_count": 33,
   "id": "947f6090",
   "metadata": {},
   "outputs": [
    {
     "data": {
      "text/plain": [
       "GridSearchCV(estimator=DecisionTreeClassifier(),\n",
       "             param_grid={'max_depth': [3, 4, 5, 6, 7, 8, 9, 10],\n",
       "                         'min_samples_leaf': [1, 2, 3, 4],\n",
       "                         'min_samples_split': [2, 3, 4]})"
      ]
     },
     "execution_count": 33,
     "metadata": {},
     "output_type": "execute_result"
    }
   ],
   "source": [
    "dt_gs_clf = GridSearchCV(dt_obj, dt_params)\n",
    "\n",
    "dt_gs_clf.fit(X_train, y_train.values.reshape(-1))"
   ]
  },
  {
   "cell_type": "code",
   "execution_count": 34,
   "id": "d10c0fb5",
   "metadata": {
    "scrolled": true
   },
   "outputs": [
    {
     "data": {
      "text/plain": [
       "DecisionTreeClassifier(max_depth=7, min_samples_split=3)"
      ]
     },
     "execution_count": 34,
     "metadata": {},
     "output_type": "execute_result"
    }
   ],
   "source": [
    "dt_gs_clf.best_estimator_"
   ]
  },
  {
   "cell_type": "code",
   "execution_count": 35,
   "id": "d18cc6d4",
   "metadata": {},
   "outputs": [
    {
     "data": {
      "text/plain": [
       "0.959746835443038"
      ]
     },
     "execution_count": 35,
     "metadata": {},
     "output_type": "execute_result"
    }
   ],
   "source": [
    "dt_gs_clf.best_score_"
   ]
  },
  {
   "cell_type": "code",
   "execution_count": 36,
   "id": "7ad5f2b4",
   "metadata": {},
   "outputs": [],
   "source": [
    "#pd.DataFrame(dt_gs_clf.cv_results_).sort_values(\"rank_test_score\")"
   ]
  },
  {
   "cell_type": "code",
   "execution_count": 37,
   "id": "9605ca71",
   "metadata": {},
   "outputs": [
    {
     "data": {
      "text/plain": [
       "0.9064327485380117"
      ]
     },
     "execution_count": 37,
     "metadata": {},
     "output_type": "execute_result"
    }
   ],
   "source": [
    "dt_gs_clf.score(X_test, y_test.values.reshape(-1))"
   ]
  },
  {
   "cell_type": "markdown",
   "id": "11330414",
   "metadata": {
    "tags": []
   },
   "source": [
    "#### 3. Gaussian NB"
   ]
  },
  {
   "cell_type": "code",
   "execution_count": 38,
   "id": "9093b2cd",
   "metadata": {},
   "outputs": [
    {
     "data": {
      "text/plain": [
       "0.935672514619883"
      ]
     },
     "execution_count": 38,
     "metadata": {},
     "output_type": "execute_result"
    }
   ],
   "source": [
    "gnb_clf =  GaussianNB()\n",
    "\n",
    "gnb_clf.fit(X_train, y_train.values.reshape(-1))\n",
    "\n",
    "gnb_clf.score(X_test, y_test.values.reshape(-1))"
   ]
  },
  {
   "cell_type": "markdown",
   "id": "1f53ea8a-9788-4945-b3c4-d288251cdcb6",
   "metadata": {
    "tags": []
   },
   "source": [
    " #### 4.RandomForest "
   ]
  },
  {
   "cell_type": "code",
   "execution_count": 39,
   "id": "a2a9ce5a-903d-4993-a0af-4662c054e4ae",
   "metadata": {
    "tags": []
   },
   "outputs": [],
   "source": [
    "#rf_clf = RandomForestClassifier(random_state=43 , )      \n",
    "\n",
    "#rf_clf.fit(X_train,y_train.values.reshape(-1))\n",
    "\n",
    "#rf_clf.score(X_test, y_test.values.reshape(-1))"
   ]
  },
  {
   "cell_type": "code",
   "execution_count": 40,
   "id": "49df4d67-10b8-46a2-9584-1ce3d1522aac",
   "metadata": {},
   "outputs": [],
   "source": [
    "rf_obj = RandomForestClassifier()\n",
    "rf_params = {\n",
    "    'criterion':('gini', 'entropy'),\n",
    "    'n_estimators':[i for i in range(100, 105)],\n",
    "    'max_features' : ( 'auto', 'sqrt', 'log2')\n",
    "}"
   ]
  },
  {
   "cell_type": "code",
   "execution_count": 41,
   "id": "23e48efd-9152-41ad-8875-86b47bc93acb",
   "metadata": {},
   "outputs": [
    {
     "data": {
      "text/plain": [
       "GridSearchCV(estimator=RandomForestClassifier(),\n",
       "             param_grid={'criterion': ('gini', 'entropy'),\n",
       "                         'max_features': ('auto', 'sqrt', 'log2'),\n",
       "                         'n_estimators': [100, 101, 102, 103, 104]})"
      ]
     },
     "execution_count": 41,
     "metadata": {},
     "output_type": "execute_result"
    }
   ],
   "source": [
    "rf_gs_clf = GridSearchCV(rf_obj, rf_params)\n",
    "\n",
    "rf_gs_clf.fit(X_train, y_train.values.reshape(-1))"
   ]
  },
  {
   "cell_type": "code",
   "execution_count": 42,
   "id": "8d0714fc-c402-4086-a5a1-50f5a5cf51d6",
   "metadata": {},
   "outputs": [
    {
     "data": {
      "text/plain": [
       "0.9532163742690059"
      ]
     },
     "execution_count": 42,
     "metadata": {},
     "output_type": "execute_result"
    }
   ],
   "source": [
    "svc_gs_clf.score(X_test, y_test.values.reshape(-1))"
   ]
  },
  {
   "cell_type": "code",
   "execution_count": 43,
   "id": "f7e5b5df-fab5-471e-9978-fa912a428bbc",
   "metadata": {
    "tags": []
   },
   "outputs": [],
   "source": [
    "#ac = accuracy_score(y_test,rf_clf.predict(X_test))\n",
    "#print('Accuracy is: ',ac)"
   ]
  },
  {
   "cell_type": "code",
   "execution_count": null,
   "id": "ffcacb74-e4e4-4d10-9728-33f784911ab2",
   "metadata": {
    "tags": []
   },
   "outputs": [],
   "source": []
  }
 ],
 "metadata": {
  "kernelspec": {
   "display_name": "Python 3 (ipykernel)",
   "language": "python",
   "name": "python3"
  },
  "language_info": {
   "codemirror_mode": {
    "name": "ipython",
    "version": 3
   },
   "file_extension": ".py",
   "mimetype": "text/x-python",
   "name": "python",
   "nbconvert_exporter": "python",
   "pygments_lexer": "ipython3",
   "version": "3.10.2"
  }
 },
 "nbformat": 4,
 "nbformat_minor": 5
}
